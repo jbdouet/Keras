{
 "cells": [
  {
   "cell_type": "markdown",
   "metadata": {},
   "source": [
    "### Keras first model\n"
   ]
  },
  {
   "cell_type": "markdown",
   "metadata": {},
   "source": [
    "The goal is to get used to Keras to understand well how it works, in fine I'd like to be able to build a model using LSTMs."
   ]
  },
  {
   "cell_type": "markdown",
   "metadata": {},
   "source": [
    "To install keras on a mac, it is necessary to modify the tensorflow_backend file \n",
    "and replace the line after the importError exception with <br /> \"from tensorflow.python.ops import nn  as ctc\"  "
   ]
  },
  {
   "cell_type": "code",
   "execution_count": 2,
   "metadata": {
    "collapsed": false
   },
   "outputs": [
    {
     "name": "stderr",
     "output_type": "stream",
     "text": [
      "Using Theano backend.\n"
     ]
    }
   ],
   "source": [
    "import keras "
   ]
  },
  {
   "cell_type": "markdown",
   "metadata": {},
   "source": [
    "By default keras will work using Tensorflow, it is possible though to make it use Theano, here is how: https://keras.io/backend/"
   ]
  },
  {
   "cell_type": "markdown",
   "metadata": {},
   "source": [
    "As found here:http://machinelearningmastery.com/introduction-python-deep-learning-library-keras/ <br />\n",
    "The principle to build a model with keras are: <br />\n",
    "0) Get the data <br />\n",
    "1) Define your model. Create a sequence and add layers.<br />\n",
    "2) Compile your model. Specify loss functions and optimizers.<br />\n",
    "3) Fit your model. Execute the model using data.<br />\n",
    "4) Make predictions. Use the model to generate predictions on new data.<br />"
   ]
  },
  {
   "cell_type": "markdown",
   "metadata": {},
   "source": [
    "### Get the data "
   ]
  },
  {
   "cell_type": "markdown",
   "metadata": {},
   "source": [
    "We will work on the iris dataset, that can be downloaded directly from scikit."
   ]
  },
  {
   "cell_type": "code",
   "execution_count": 3,
   "metadata": {
    "collapsed": true
   },
   "outputs": [],
   "source": [
    "from sklearn import datasets\n",
    "# import the data\n",
    "iris = datasets.load_iris()"
   ]
  },
  {
   "cell_type": "code",
   "execution_count": 4,
   "metadata": {
    "collapsed": false
   },
   "outputs": [
    {
     "data": {
      "text/plain": [
       "(150, 4)"
      ]
     },
     "execution_count": 4,
     "metadata": {},
     "output_type": "execute_result"
    }
   ],
   "source": [
    "X =iris.data\n",
    "X.shape"
   ]
  },
  {
   "cell_type": "code",
   "execution_count": 5,
   "metadata": {
    "collapsed": false
   },
   "outputs": [],
   "source": [
    "#the data is not stratified !\n",
    "y = iris.target"
   ]
  },
  {
   "cell_type": "code",
   "execution_count": 17,
   "metadata": {
    "collapsed": false
   },
   "outputs": [
    {
     "data": {
      "text/plain": [
       "[(array([ 5.1,  3.5,  1.4,  0.2]), 0), (array([ 4.9,  3. ,  1.4,  0.2]), 0)]"
      ]
     },
     "execution_count": 17,
     "metadata": {},
     "output_type": "execute_result"
    }
   ],
   "source": [
    "data = [(X[i],y[i]) for i,x in enumerate(y)]\n",
    "data[:2]"
   ]
  },
  {
   "cell_type": "code",
   "execution_count": 18,
   "metadata": {
    "collapsed": true
   },
   "outputs": [],
   "source": [
    "from random import shuffle"
   ]
  },
  {
   "cell_type": "code",
   "execution_count": 23,
   "metadata": {
    "collapsed": false
   },
   "outputs": [
    {
     "data": {
      "text/plain": [
       "[(array([ 6.1,  2.8,  4. ,  1.3]), 1), (array([ 4.5,  2.3,  1.3,  0.3]), 0)]"
      ]
     },
     "execution_count": 23,
     "metadata": {},
     "output_type": "execute_result"
    }
   ],
   "source": [
    "shuffle(data)\n",
    "data[:2]"
   ]
  },
  {
   "cell_type": "code",
   "execution_count": 70,
   "metadata": {
    "collapsed": false
   },
   "outputs": [],
   "source": [
    "newX= [x[0].tolist() for x in data]\n",
    "newY=  [x[1].tolist() for x in data]"
   ]
  },
  {
   "cell_type": "code",
   "execution_count": 71,
   "metadata": {
    "collapsed": false
   },
   "outputs": [
    {
     "data": {
      "text/plain": [
       "array([[ 0.,  1.,  0.],\n",
       "       [ 1.,  0.,  0.]])"
      ]
     },
     "execution_count": 71,
     "metadata": {},
     "output_type": "execute_result"
    }
   ],
   "source": [
    "from keras.utils.np_utils import to_categorical\n",
    "y_binary = to_categorical(newY)\n",
    "# that transforms the integers in 1-hot vectors like [1,0,0], [0,1,0], [0,0,1] in our case \n",
    "y_binary[:2]"
   ]
  },
  {
   "cell_type": "code",
   "execution_count": 72,
   "metadata": {
    "collapsed": true
   },
   "outputs": [],
   "source": [
    "#final sets\n",
    "seperator = len(newX)*8/10\n",
    "Xtraining=newX[:seperator]\n",
    "Xtest= newX[seperator:]\n",
    "Ytraining= y_binary[:seperator]\n",
    "Ytest= y_binary[seperator:]"
   ]
  },
  {
   "cell_type": "code",
   "execution_count": 74,
   "metadata": {
    "collapsed": false
   },
   "outputs": [],
   "source": [
    "import numpy as np\n",
    "Xtraining= np.array(Xtraining)\n",
    "Xtest= np.array(Xtest)"
   ]
  },
  {
   "cell_type": "markdown",
   "metadata": {},
   "source": [
    "### Create the sequence\n"
   ]
  },
  {
   "cell_type": "code",
   "execution_count": 85,
   "metadata": {
    "collapsed": true
   },
   "outputs": [],
   "source": [
    "from keras.models import Sequential\n",
    "from keras.layers import Dense, Activation\n",
    "\n",
    "model = Sequential() # creates the sequence "
   ]
  },
  {
   "cell_type": "markdown",
   "metadata": {},
   "source": [
    "From here it is possible to add any kind and number of layers to the sequence using the .add() method.<br />\n",
    "Some documentation about Keras layers can be found here https://keras.io/layers/about-keras-layers/ as well as the different types of layers <br />\n",
    "We will deal with some of those models but the important thing is to thoroughly consult the documentation as the sequences can also be used for normalizing, word embedding, merging vectors and not only create the network. <br />"
   ]
  },
  {
   "cell_type": "markdown",
   "metadata": {},
   "source": [
    "As the dataset is quite small we will use a 1-layer neural net."
   ]
  },
  {
   "cell_type": "code",
   "execution_count": 86,
   "metadata": {
    "collapsed": false
   },
   "outputs": [],
   "source": [
    "# we are adding a fully connected hidden layer\n",
    "model.add(Dense(10, input_dim=4,init='uniform', activation='relu'))\n",
    "# here is our output layer\n",
    "model.add(Dense(3, init='uniform', activation='sigmoid'))"
   ]
  },
  {
   "cell_type": "markdown",
   "metadata": {
    "collapsed": true
   },
   "source": [
    "### Compile the model "
   ]
  },
  {
   "cell_type": "code",
   "execution_count": 87,
   "metadata": {
    "collapsed": true
   },
   "outputs": [],
   "source": [
    "model.compile(loss='categorical_crossentropy', optimizer='adam', metrics=['accuracy'])"
   ]
  },
  {
   "cell_type": "markdown",
   "metadata": {},
   "source": [
    "### Fit the model "
   ]
  },
  {
   "cell_type": "code",
   "execution_count": 88,
   "metadata": {
    "collapsed": false
   },
   "outputs": [
    {
     "name": "stdout",
     "output_type": "stream",
     "text": [
      "Epoch 1/150\n",
      "120/120 [==============================] - 0s - loss: 1.0984 - acc: 0.3333     \n",
      "Epoch 2/150\n",
      "120/120 [==============================] - 0s - loss: 1.0969 - acc: 0.3333     \n",
      "Epoch 3/150\n",
      "120/120 [==============================] - 0s - loss: 1.0947 - acc: 0.3417     \n",
      "Epoch 4/150\n",
      "120/120 [==============================] - 0s - loss: 1.0911 - acc: 0.3667     \n",
      "Epoch 5/150\n",
      "120/120 [==============================] - 0s - loss: 1.0862 - acc: 0.3333     \n",
      "Epoch 6/150\n",
      "120/120 [==============================] - 0s - loss: 1.0795 - acc: 0.3333     \n",
      "Epoch 7/150\n",
      "120/120 [==============================] - 0s - loss: 1.0709 - acc: 0.3333     \n",
      "Epoch 8/150\n",
      "120/120 [==============================] - 0s - loss: 1.0606 - acc: 0.3333     \n",
      "Epoch 9/150\n",
      "120/120 [==============================] - 0s - loss: 1.0489 - acc: 0.3333     \n",
      "Epoch 10/150\n",
      "120/120 [==============================] - 0s - loss: 1.0357 - acc: 0.3333     \n",
      "Epoch 11/150\n",
      "120/120 [==============================] - 0s - loss: 1.0222 - acc: 0.3333     \n",
      "Epoch 12/150\n",
      "120/120 [==============================] - 0s - loss: 1.0068 - acc: 0.3333     \n",
      "Epoch 13/150\n",
      "120/120 [==============================] - 0s - loss: 0.9899 - acc: 0.3333     \n",
      "Epoch 14/150\n",
      "120/120 [==============================] - 0s - loss: 0.9740 - acc: 0.3333     \n",
      "Epoch 15/150\n",
      "120/120 [==============================] - 0s - loss: 0.9573 - acc: 0.3417     \n",
      "Epoch 16/150\n",
      "120/120 [==============================] - 0s - loss: 0.9416 - acc: 0.3750     \n",
      "Epoch 17/150\n",
      "120/120 [==============================] - 0s - loss: 0.9260 - acc: 0.4750     \n",
      "Epoch 18/150\n",
      "120/120 [==============================] - 0s - loss: 0.9123 - acc: 0.5500     \n",
      "Epoch 19/150\n",
      "120/120 [==============================] - 0s - loss: 0.8993 - acc: 0.5833     \n",
      "Epoch 20/150\n",
      "120/120 [==============================] - 0s - loss: 0.8874 - acc: 0.6000     \n",
      "Epoch 21/150\n",
      "120/120 [==============================] - 0s - loss: 0.8769 - acc: 0.6250     \n",
      "Epoch 22/150\n",
      "120/120 [==============================] - 0s - loss: 0.8677 - acc: 0.6333     \n",
      "Epoch 23/150\n",
      "120/120 [==============================] - 0s - loss: 0.8596 - acc: 0.6417     \n",
      "Epoch 24/150\n",
      "120/120 [==============================] - 0s - loss: 0.8524 - acc: 0.6417     \n",
      "Epoch 25/150\n",
      "120/120 [==============================] - 0s - loss: 0.8457 - acc: 0.6500     \n",
      "Epoch 26/150\n",
      "120/120 [==============================] - 0s - loss: 0.8398 - acc: 0.6500     \n",
      "Epoch 27/150\n",
      "120/120 [==============================] - 0s - loss: 0.8340 - acc: 0.6500     \n",
      "Epoch 28/150\n",
      "120/120 [==============================] - 0s - loss: 0.8292 - acc: 0.6583     \n",
      "Epoch 29/150\n",
      "120/120 [==============================] - 0s - loss: 0.8240 - acc: 0.6583     \n",
      "Epoch 30/150\n",
      "120/120 [==============================] - 0s - loss: 0.8194 - acc: 0.6583     \n",
      "Epoch 31/150\n",
      "120/120 [==============================] - 0s - loss: 0.8153 - acc: 0.6667     \n",
      "Epoch 32/150\n",
      "120/120 [==============================] - 0s - loss: 0.8110 - acc: 0.6667     \n",
      "Epoch 33/150\n",
      "120/120 [==============================] - 0s - loss: 0.8073 - acc: 0.6667     \n",
      "Epoch 34/150\n",
      "120/120 [==============================] - 0s - loss: 0.8033 - acc: 0.6667     \n",
      "Epoch 35/150\n",
      "120/120 [==============================] - 0s - loss: 0.7998 - acc: 0.6667     \n",
      "Epoch 36/150\n",
      "120/120 [==============================] - 0s - loss: 0.7963 - acc: 0.6667     \n",
      "Epoch 37/150\n",
      "120/120 [==============================] - 0s - loss: 0.7933 - acc: 0.6667     \n",
      "Epoch 38/150\n",
      "120/120 [==============================] - 0s - loss: 0.7899 - acc: 0.6667     \n",
      "Epoch 39/150\n",
      "120/120 [==============================] - 0s - loss: 0.7865 - acc: 0.6667     \n",
      "Epoch 40/150\n",
      "120/120 [==============================] - 0s - loss: 0.7836 - acc: 0.6667     \n",
      "Epoch 41/150\n",
      "120/120 [==============================] - 0s - loss: 0.7811 - acc: 0.6667     \n",
      "Epoch 42/150\n",
      "120/120 [==============================] - 0s - loss: 0.7775 - acc: 0.6667     \n",
      "Epoch 43/150\n",
      "120/120 [==============================] - 0s - loss: 0.7744 - acc: 0.6667     \n",
      "Epoch 44/150\n",
      "120/120 [==============================] - 0s - loss: 0.7718 - acc: 0.6667     \n",
      "Epoch 45/150\n",
      "120/120 [==============================] - 0s - loss: 0.7688 - acc: 0.6667     \n",
      "Epoch 46/150\n",
      "120/120 [==============================] - 0s - loss: 0.7659 - acc: 0.6667     \n",
      "Epoch 47/150\n",
      "120/120 [==============================] - 0s - loss: 0.7632 - acc: 0.6667     \n",
      "Epoch 48/150\n",
      "120/120 [==============================] - 0s - loss: 0.7605 - acc: 0.6667     \n",
      "Epoch 49/150\n",
      "120/120 [==============================] - 0s - loss: 0.7579 - acc: 0.6667     \n",
      "Epoch 50/150\n",
      "120/120 [==============================] - 0s - loss: 0.7552 - acc: 0.6667     \n",
      "Epoch 51/150\n",
      "120/120 [==============================] - 0s - loss: 0.7528 - acc: 0.6667     \n",
      "Epoch 52/150\n",
      "120/120 [==============================] - 0s - loss: 0.7499 - acc: 0.6667     \n",
      "Epoch 53/150\n",
      "120/120 [==============================] - 0s - loss: 0.7472 - acc: 0.6667     \n",
      "Epoch 54/150\n",
      "120/120 [==============================] - 0s - loss: 0.7449 - acc: 0.6667     \n",
      "Epoch 55/150\n",
      "120/120 [==============================] - 0s - loss: 0.7422 - acc: 0.6667     \n",
      "Epoch 56/150\n",
      "120/120 [==============================] - 0s - loss: 0.7394 - acc: 0.6667     \n",
      "Epoch 57/150\n",
      "120/120 [==============================] - 0s - loss: 0.7377 - acc: 0.6667     \n",
      "Epoch 58/150\n",
      "120/120 [==============================] - 0s - loss: 0.7347 - acc: 0.6667     \n",
      "Epoch 59/150\n",
      "120/120 [==============================] - 0s - loss: 0.7321 - acc: 0.6667     \n",
      "Epoch 60/150\n",
      "120/120 [==============================] - 0s - loss: 0.7301 - acc: 0.6667     \n",
      "Epoch 61/150\n",
      "120/120 [==============================] - 0s - loss: 0.7271 - acc: 0.6667     \n",
      "Epoch 62/150\n",
      "120/120 [==============================] - 0s - loss: 0.7247 - acc: 0.6667     \n",
      "Epoch 63/150\n",
      "120/120 [==============================] - 0s - loss: 0.7241 - acc: 0.6667     \n",
      "Epoch 64/150\n",
      "120/120 [==============================] - 0s - loss: 0.7199 - acc: 0.6667     \n",
      "Epoch 65/150\n",
      "120/120 [==============================] - 0s - loss: 0.7179 - acc: 0.6667     \n",
      "Epoch 66/150\n",
      "120/120 [==============================] - 0s - loss: 0.7150 - acc: 0.6667     \n",
      "Epoch 67/150\n",
      "120/120 [==============================] - 0s - loss: 0.7135 - acc: 0.6667     \n",
      "Epoch 68/150\n",
      "120/120 [==============================] - 0s - loss: 0.7105 - acc: 0.6667     \n",
      "Epoch 69/150\n",
      "120/120 [==============================] - 0s - loss: 0.7088 - acc: 0.6667     \n",
      "Epoch 70/150\n",
      "120/120 [==============================] - 0s - loss: 0.7061 - acc: 0.6667     \n",
      "Epoch 71/150\n",
      "120/120 [==============================] - 0s - loss: 0.7047 - acc: 0.6667     \n",
      "Epoch 72/150\n",
      "120/120 [==============================] - 0s - loss: 0.7018 - acc: 0.6667     \n",
      "Epoch 73/150\n",
      "120/120 [==============================] - 0s - loss: 0.6991 - acc: 0.6667     \n",
      "Epoch 74/150\n",
      "120/120 [==============================] - 0s - loss: 0.6965 - acc: 0.6667     \n",
      "Epoch 75/150\n",
      "120/120 [==============================] - 0s - loss: 0.6943 - acc: 0.6667     \n",
      "Epoch 76/150\n",
      "120/120 [==============================] - 0s - loss: 0.6923 - acc: 0.6667     \n",
      "Epoch 77/150\n",
      "120/120 [==============================] - 0s - loss: 0.6898 - acc: 0.6667     \n",
      "Epoch 78/150\n",
      "120/120 [==============================] - 0s - loss: 0.6877 - acc: 0.6667     \n",
      "Epoch 79/150\n",
      "120/120 [==============================] - 0s - loss: 0.6855 - acc: 0.6667     \n",
      "Epoch 80/150\n",
      "120/120 [==============================] - 0s - loss: 0.6828 - acc: 0.6667     \n",
      "Epoch 81/150\n",
      "120/120 [==============================] - 0s - loss: 0.6804 - acc: 0.6667     \n",
      "Epoch 82/150\n",
      "120/120 [==============================] - 0s - loss: 0.6783 - acc: 0.6667     \n",
      "Epoch 83/150\n",
      "120/120 [==============================] - 0s - loss: 0.6758 - acc: 0.6667     \n",
      "Epoch 84/150\n",
      "120/120 [==============================] - 0s - loss: 0.6735 - acc: 0.6750     \n",
      "Epoch 85/150\n",
      "120/120 [==============================] - 0s - loss: 0.6713 - acc: 0.6750     \n",
      "Epoch 86/150\n",
      "120/120 [==============================] - 0s - loss: 0.6697 - acc: 0.6750     \n",
      "Epoch 87/150\n",
      "120/120 [==============================] - 0s - loss: 0.6663 - acc: 0.6750     \n",
      "Epoch 88/150\n",
      "120/120 [==============================] - 0s - loss: 0.6646 - acc: 0.6750     \n",
      "Epoch 89/150\n",
      "120/120 [==============================] - 0s - loss: 0.6618 - acc: 0.6750     \n",
      "Epoch 90/150\n",
      "120/120 [==============================] - 0s - loss: 0.6593 - acc: 0.6833     \n",
      "Epoch 91/150\n",
      "120/120 [==============================] - 0s - loss: 0.6566 - acc: 0.6917     \n",
      "Epoch 92/150\n",
      "120/120 [==============================] - 0s - loss: 0.6540 - acc: 0.6917     \n",
      "Epoch 93/150\n",
      "120/120 [==============================] - 0s - loss: 0.6523 - acc: 0.6917     \n",
      "Epoch 94/150\n",
      "120/120 [==============================] - 0s - loss: 0.6496 - acc: 0.7000     \n",
      "Epoch 95/150\n",
      "120/120 [==============================] - 0s - loss: 0.6456 - acc: 0.7000     \n",
      "Epoch 96/150\n",
      "120/120 [==============================] - 0s - loss: 0.6429 - acc: 0.6917     \n",
      "Epoch 97/150\n",
      "120/120 [==============================] - 0s - loss: 0.6398 - acc: 0.7000     \n",
      "Epoch 98/150\n",
      "120/120 [==============================] - 0s - loss: 0.6371 - acc: 0.7083     \n",
      "Epoch 99/150\n",
      "120/120 [==============================] - 0s - loss: 0.6342 - acc: 0.7083     \n",
      "Epoch 100/150\n",
      "120/120 [==============================] - 0s - loss: 0.6317 - acc: 0.7333     \n",
      "Epoch 101/150\n",
      "120/120 [==============================] - 0s - loss: 0.6276 - acc: 0.7333     \n",
      "Epoch 102/150\n",
      "120/120 [==============================] - 0s - loss: 0.6270 - acc: 0.7083     \n",
      "Epoch 103/150\n",
      "120/120 [==============================] - 0s - loss: 0.6233 - acc: 0.7583     \n",
      "Epoch 104/150\n",
      "120/120 [==============================] - 0s - loss: 0.6187 - acc: 0.7417     \n",
      "Epoch 105/150\n",
      "120/120 [==============================] - 0s - loss: 0.6159 - acc: 0.7250     \n",
      "Epoch 106/150\n",
      "120/120 [==============================] - 0s - loss: 0.6123 - acc: 0.7667     \n",
      "Epoch 107/150\n",
      "120/120 [==============================] - 0s - loss: 0.6094 - acc: 0.7583     \n",
      "Epoch 108/150\n",
      "120/120 [==============================] - 0s - loss: 0.6061 - acc: 0.7667     \n",
      "Epoch 109/150\n",
      "120/120 [==============================] - 0s - loss: 0.6031 - acc: 0.7667     \n",
      "Epoch 110/150\n",
      "120/120 [==============================] - 0s - loss: 0.6016 - acc: 0.8250     \n",
      "Epoch 111/150\n",
      "120/120 [==============================] - 0s - loss: 0.5983 - acc: 0.7750     \n",
      "Epoch 112/150\n",
      "120/120 [==============================] - 0s - loss: 0.5935 - acc: 0.7917     \n",
      "Epoch 113/150\n",
      "120/120 [==============================] - 0s - loss: 0.5900 - acc: 0.8250     \n",
      "Epoch 114/150\n",
      "120/120 [==============================] - 0s - loss: 0.5868 - acc: 0.8417     \n",
      "Epoch 115/150\n",
      "120/120 [==============================] - 0s - loss: 0.5836 - acc: 0.8167     \n",
      "Epoch 116/150\n",
      "120/120 [==============================] - 0s - loss: 0.5798 - acc: 0.8167     \n",
      "Epoch 117/150\n",
      "120/120 [==============================] - 0s - loss: 0.5770 - acc: 0.8250     \n",
      "Epoch 118/150\n",
      "120/120 [==============================] - 0s - loss: 0.5736 - acc: 0.8583     \n",
      "Epoch 119/150\n",
      "120/120 [==============================] - 0s - loss: 0.5695 - acc: 0.8500     \n",
      "Epoch 120/150\n",
      "120/120 [==============================] - 0s - loss: 0.5663 - acc: 0.8750     \n",
      "Epoch 121/150\n",
      "120/120 [==============================] - 0s - loss: 0.5624 - acc: 0.8750     \n",
      "Epoch 122/150\n",
      "120/120 [==============================] - 0s - loss: 0.5593 - acc: 0.8667     \n",
      "Epoch 123/150\n",
      "120/120 [==============================] - 0s - loss: 0.5542 - acc: 0.9083     \n",
      "Epoch 124/150\n",
      "120/120 [==============================] - 0s - loss: 0.5510 - acc: 0.8917     \n",
      "Epoch 125/150\n",
      "120/120 [==============================] - 0s - loss: 0.5470 - acc: 0.9250     \n",
      "Epoch 126/150\n",
      "120/120 [==============================] - 0s - loss: 0.5430 - acc: 0.9083     \n",
      "Epoch 127/150\n",
      "120/120 [==============================] - 0s - loss: 0.5388 - acc: 0.9167     \n",
      "Epoch 128/150\n",
      "120/120 [==============================] - 0s - loss: 0.5388 - acc: 0.9667     \n",
      "Epoch 129/150\n",
      "120/120 [==============================] - 0s - loss: 0.5310 - acc: 0.9500     \n",
      "Epoch 130/150\n",
      "120/120 [==============================] - 0s - loss: 0.5273 - acc: 0.9417     \n",
      "Epoch 131/150\n",
      "120/120 [==============================] - 0s - loss: 0.5231 - acc: 0.9417     \n",
      "Epoch 132/150\n",
      "120/120 [==============================] - 0s - loss: 0.5207 - acc: 0.9583     \n",
      "Epoch 133/150\n",
      "120/120 [==============================] - 0s - loss: 0.5147 - acc: 0.9667     \n",
      "Epoch 134/150\n",
      "120/120 [==============================] - 0s - loss: 0.5106 - acc: 0.9667     \n",
      "Epoch 135/150\n",
      "120/120 [==============================] - 0s - loss: 0.5070 - acc: 0.9667     \n",
      "Epoch 136/150\n",
      "120/120 [==============================] - 0s - loss: 0.5026 - acc: 0.9667     \n",
      "Epoch 137/150\n",
      "120/120 [==============================] - 0s - loss: 0.5002 - acc: 0.9667     \n",
      "Epoch 138/150\n",
      "120/120 [==============================] - 0s - loss: 0.4953 - acc: 0.9667     \n",
      "Epoch 139/150\n",
      "120/120 [==============================] - 0s - loss: 0.4932 - acc: 0.9583     \n",
      "Epoch 140/150\n",
      "120/120 [==============================] - 0s - loss: 0.4877 - acc: 0.9667     \n",
      "Epoch 141/150\n",
      "120/120 [==============================] - 0s - loss: 0.4844 - acc: 0.9667     \n",
      "Epoch 142/150\n",
      "120/120 [==============================] - 0s - loss: 0.4801 - acc: 0.9667     \n",
      "Epoch 143/150\n",
      "120/120 [==============================] - 0s - loss: 0.4785 - acc: 0.9667     \n",
      "Epoch 144/150\n",
      "120/120 [==============================] - 0s - loss: 0.4737 - acc: 0.9667     \n",
      "Epoch 145/150\n",
      "120/120 [==============================] - 0s - loss: 0.4700 - acc: 0.9667     \n",
      "Epoch 146/150\n",
      "120/120 [==============================] - 0s - loss: 0.4656 - acc: 0.9667     \n",
      "Epoch 147/150\n",
      "120/120 [==============================] - 0s - loss: 0.4627 - acc: 0.9667     \n",
      "Epoch 148/150\n",
      "120/120 [==============================] - 0s - loss: 0.4581 - acc: 0.9667     \n",
      "Epoch 149/150\n",
      "120/120 [==============================] - 0s - loss: 0.4551 - acc: 0.9667     \n",
      "Epoch 150/150\n",
      "120/120 [==============================] - 0s - loss: 0.4532 - acc: 0.9750     \n"
     ]
    },
    {
     "data": {
      "text/plain": [
       "<keras.callbacks.History at 0x10a3b6c50>"
      ]
     },
     "execution_count": 88,
     "metadata": {},
     "output_type": "execute_result"
    }
   ],
   "source": [
    "model.fit(Xtraining, Ytraining, nb_epoch=150, batch_size=10)"
   ]
  },
  {
   "cell_type": "markdown",
   "metadata": {},
   "source": [
    "### Testing the model "
   ]
  },
  {
   "cell_type": "code",
   "execution_count": 89,
   "metadata": {
    "collapsed": false
   },
   "outputs": [
    {
     "name": "stdout",
     "output_type": "stream",
     "text": [
      "30/30 [==============================] - 0s\n"
     ]
    }
   ],
   "source": [
    "# we can make predictions on the test set with our newly trained model\n",
    "classes = model.predict_classes(Xtest, batch_size=32)\n"
   ]
  },
  {
   "cell_type": "code",
   "execution_count": 90,
   "metadata": {
    "collapsed": false
   },
   "outputs": [
    {
     "name": "stdout",
     "output_type": "stream",
     "text": [
      "30/30 [==============================] - 0s\n"
     ]
    }
   ],
   "source": [
    "loss_and_metrics = model.evaluate(Xtest, Ytest, batch_size=32)\n"
   ]
  },
  {
   "cell_type": "code",
   "execution_count": 91,
   "metadata": {
    "collapsed": false
   },
   "outputs": [
    {
     "data": {
      "text/plain": [
       "[0.46102365851402283, 0.96666663885116577]"
      ]
     },
     "execution_count": 91,
     "metadata": {},
     "output_type": "execute_result"
    }
   ],
   "source": [
    "loss_and_metrics"
   ]
  },
  {
   "cell_type": "code",
   "execution_count": 92,
   "metadata": {
    "collapsed": false
   },
   "outputs": [
    {
     "name": "stdout",
     "output_type": "stream",
     "text": [
      "acc: 96.67%\n"
     ]
    }
   ],
   "source": [
    "# evaluate the model\n",
    "print(\"%s: %.2f%%\" % (model.metrics_names[1], loss_and_metrics[1]*100))"
   ]
  },
  {
   "cell_type": "code",
   "execution_count": null,
   "metadata": {
    "collapsed": true
   },
   "outputs": [],
   "source": []
  },
  {
   "cell_type": "code",
   "execution_count": null,
   "metadata": {
    "collapsed": true
   },
   "outputs": [],
   "source": []
  }
 ],
 "metadata": {
  "kernelspec": {
   "display_name": "Python 2",
   "language": "python",
   "name": "python2"
  },
  "language_info": {
   "codemirror_mode": {
    "name": "ipython",
    "version": 2
   },
   "file_extension": ".py",
   "mimetype": "text/x-python",
   "name": "python",
   "nbconvert_exporter": "python",
   "pygments_lexer": "ipython2",
   "version": "2.7.12"
  }
 },
 "nbformat": 4,
 "nbformat_minor": 1
}
