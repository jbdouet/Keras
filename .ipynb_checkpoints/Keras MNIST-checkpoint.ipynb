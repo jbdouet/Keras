{
 "cells": [
  {
   "cell_type": "markdown",
   "metadata": {},
   "source": [
    "### Keras MNIST"
   ]
  },
  {
   "cell_type": "markdown",
   "metadata": {},
   "source": [
    "This notebook was inspired by the work on http://machinelearningmastery.com/handwritten-digit-recognition-using-convolutional-neural-networks-python-keras/. The goal here is not to invent anything but to get used to Keras' tool.\n",
    "With this notebook, we're going to do character recognition on the MNIST database. \n",
    "We will train a convolutionnal neural network, and try the Dropout layers."
   ]
  },
  {
   "cell_type": "markdown",
   "metadata": {},
   "source": [
    "At the theory level, here is a really good explanation on how CNNs work: http://neuralnetworksanddeeplearning.com/chap6.html"
   ]
  },
  {
   "cell_type": "markdown",
   "metadata": {},
   "source": [
    "### CPU or GPU"
   ]
  },
  {
   "cell_type": "markdown",
   "metadata": {},
   "source": [
    "To make the model run on the gpu, diverse techniques exist : https://keras.io/getting-started/faq/#how-can-i-run-keras-on-gpu <br />\n",
    "We chose the manual one as it is rather easy and prevent us from forgetting our settings.\n",
    "\n"
   ]
  },
  {
   "cell_type": "code",
   "execution_count": 1,
   "metadata": {
    "collapsed": false
   },
   "outputs": [
    {
     "name": "stderr",
     "output_type": "stream",
     "text": [
      "ERROR (theano.sandbox.cuda): nvcc compiler not found on $PATH. Check your nvcc installation and try again.\n"
     ]
    }
   ],
   "source": [
    "import os   \n",
    "#useless with NO GPU\n",
    "os.environ['THEANO_FLAGS'] = \"device=gpu\"  \n",
    "import theano \n"
   ]
  },
  {
   "cell_type": "code",
   "execution_count": 2,
   "metadata": {
    "collapsed": false
   },
   "outputs": [
    {
     "name": "stdout",
     "output_type": "stream",
     "text": [
      "[Elemwise{exp,no_inplace}(<TensorType(float64, vector)>)]\n",
      "Looping 1000 times took 1.584268 seconds\n",
      "Result is [ 1.23178032  1.61879341  1.52278065 ...,  2.20771815  2.29967753\n",
      "  1.62323285]\n",
      "Used the cpu\n"
     ]
    }
   ],
   "source": [
    "from theano import function, config, shared, tensor\n",
    "import numpy\n",
    "import time\n",
    "\n",
    "vlen = 10 * 30 * 768  # 10 x #cores x # threads per core\n",
    "iters = 1000\n",
    "\n",
    "rng = numpy.random.RandomState(22)\n",
    "x = shared(numpy.asarray(rng.rand(vlen), config.floatX))\n",
    "f = function([], tensor.exp(x))\n",
    "print(f.maker.fgraph.toposort())\n",
    "t0 = time.time()\n",
    "for i in range(iters):\n",
    "    r = f()\n",
    "t1 = time.time()\n",
    "print(\"Looping %d times took %f seconds\" % (iters, t1 - t0))\n",
    "print(\"Result is %s\" % (r,))\n",
    "if numpy.any([isinstance(x.op, tensor.Elemwise) and\n",
    "              ('Gpu' not in type(x.op).__name__)\n",
    "              for x in f.maker.fgraph.toposort()]):\n",
    "    print('Used the cpu')\n",
    "else:\n",
    "    print('Used the gpu')"
   ]
  },
  {
   "cell_type": "markdown",
   "metadata": {},
   "source": [
    "### Get the data "
   ]
  },
  {
   "cell_type": "markdown",
   "metadata": {},
   "source": [
    "Keras comes with some datasets that can be loaded directly into the notebook, they can be found here: https://keras.io/datasets/"
   ]
  },
  {
   "cell_type": "code",
   "execution_count": 3,
   "metadata": {
    "collapsed": false
   },
   "outputs": [
    {
     "name": "stderr",
     "output_type": "stream",
     "text": [
      "Using Theano backend.\n"
     ]
    }
   ],
   "source": [
    "from keras.datasets import mnist\n",
    "(X_train, y_train), (X_test, y_test) = mnist.load_data()"
   ]
  },
  {
   "cell_type": "code",
   "execution_count": 4,
   "metadata": {
    "collapsed": false
   },
   "outputs": [
    {
     "data": {
      "text/plain": [
       "(60000, 28, 28)"
      ]
     },
     "execution_count": 4,
     "metadata": {},
     "output_type": "execute_result"
    }
   ],
   "source": [
    "X_train.shape"
   ]
  },
  {
   "cell_type": "code",
   "execution_count": 5,
   "metadata": {
    "collapsed": true
   },
   "outputs": [],
   "source": [
    "# normalize inputs from 0-255 to 0-1\n",
    "X_train = X_train / 255\n",
    "X_test = X_test / 255"
   ]
  },
  {
   "cell_type": "markdown",
   "metadata": {},
   "source": [
    "In keras, the layers can expect various input format. \n",
    "So before using an layer we have to check the documentation to know in which format we need to reshape the input data.<br /> Here we will use the Convolution2D layer that take in input channels × width × height, channel is 1 here because the images are in grey scale."
   ]
  },
  {
   "cell_type": "code",
   "execution_count": 6,
   "metadata": {
    "collapsed": false
   },
   "outputs": [
    {
     "data": {
      "text/plain": [
       "(60000, 1, 28, 28)"
      ]
     },
     "execution_count": 6,
     "metadata": {},
     "output_type": "execute_result"
    }
   ],
   "source": [
    "X_train_3D = X_train.reshape(X_train.shape[0], 1, 28, 28).astype('float32')\n",
    "X_test_3D = X_test.reshape(X_test.shape[0], 1, 28, 28).astype('float32')\n",
    "X_train_3D.shape"
   ]
  },
  {
   "cell_type": "code",
   "execution_count": 7,
   "metadata": {
    "collapsed": false
   },
   "outputs": [
    {
     "data": {
      "text/plain": [
       "(60000, 784)"
      ]
     },
     "execution_count": 7,
     "metadata": {},
     "output_type": "execute_result"
    }
   ],
   "source": [
    "# This one can be useful if we want to use a Dense layer as the first hidden layer \n",
    "# flatten 28*28 images to a 784 vector for each image\n",
    "num_pixels = X_train.shape[1] * X_train.shape[2]\n",
    "X_train_flattened = X_train.reshape(X_train.shape[0], num_pixels).astype('float32')\n",
    "X_test_flattened = X_test.reshape(X_test.shape[0], num_pixels).astype('float32')\n",
    "X_train_flattened.shape"
   ]
  },
  {
   "cell_type": "markdown",
   "metadata": {},
   "source": [
    "Now, we also need to transform the outputs as 1-hot encoded vectors"
   ]
  },
  {
   "cell_type": "code",
   "execution_count": 8,
   "metadata": {
    "collapsed": false
   },
   "outputs": [
    {
     "data": {
      "text/plain": [
       "0"
      ]
     },
     "execution_count": 8,
     "metadata": {},
     "output_type": "execute_result"
    }
   ],
   "source": [
    "y_train[1]"
   ]
  },
  {
   "cell_type": "code",
   "execution_count": 9,
   "metadata": {
    "collapsed": false
   },
   "outputs": [],
   "source": [
    "from keras.utils import np_utils\n",
    "y_train = np_utils.to_categorical(y_train)\n",
    "y_test = np_utils.to_categorical(y_test)\n"
   ]
  },
  {
   "cell_type": "code",
   "execution_count": 10,
   "metadata": {
    "collapsed": false
   },
   "outputs": [
    {
     "data": {
      "text/plain": [
       "(60000, 10)"
      ]
     },
     "execution_count": 10,
     "metadata": {},
     "output_type": "execute_result"
    }
   ],
   "source": [
    "y_train.shape"
   ]
  },
  {
   "cell_type": "markdown",
   "metadata": {},
   "source": [
    "### Create the models "
   ]
  },
  {
   "cell_type": "code",
   "execution_count": 11,
   "metadata": {
    "collapsed": false
   },
   "outputs": [],
   "source": [
    "numClasses= y_train.shape[1]"
   ]
  },
  {
   "cell_type": "code",
   "execution_count": 12,
   "metadata": {
    "collapsed": true
   },
   "outputs": [],
   "source": [
    "from keras.models import Sequential \n",
    "from keras.layers import Dense, Convolution2D, MaxPooling2D, Flatten"
   ]
  },
  {
   "cell_type": "markdown",
   "metadata": {},
   "source": [
    "#### First model "
   ]
  },
  {
   "cell_type": "markdown",
   "metadata": {},
   "source": [
    "This model is a simple network with one convolutionnal layer and an output layer."
   ]
  },
  {
   "cell_type": "code",
   "execution_count": 13,
   "metadata": {
    "collapsed": false
   },
   "outputs": [],
   "source": [
    "def first_model():\n",
    "    model = Sequential()\n",
    "    model.add(Convolution2D(32, 3, 3, activation=\"relu\", border_mode=\"valid\",input_shape=(1, 28, 28),dim_ordering=\"th\"))\n",
    "    model.add(Flatten())\n",
    "    model.add(Dense(10, init='uniform', activation='sigmoid'))\n",
    "    #To debug it is really useful to print the output size of each layer as such:\n",
    "    model.summary()\n",
    "    return model"
   ]
  },
  {
   "cell_type": "code",
   "execution_count": 14,
   "metadata": {
    "collapsed": false
   },
   "outputs": [
    {
     "name": "stdout",
     "output_type": "stream",
     "text": [
      "____________________________________________________________________________________________________\n",
      "Layer (type)                     Output Shape          Param #     Connected to                     \n",
      "====================================================================================================\n",
      "convolution2d_1 (Convolution2D)  (None, 32, 26, 26)    320         convolution2d_input_1[0][0]      \n",
      "____________________________________________________________________________________________________\n",
      "flatten_1 (Flatten)              (None, 21632)         0           convolution2d_1[0][0]            \n",
      "____________________________________________________________________________________________________\n",
      "dense_1 (Dense)                  (None, 10)            216330      flatten_1[0][0]                  \n",
      "====================================================================================================\n",
      "Total params: 216650\n",
      "____________________________________________________________________________________________________\n"
     ]
    }
   ],
   "source": [
    "firstModel= first_model()"
   ]
  },
  {
   "cell_type": "code",
   "execution_count": 15,
   "metadata": {
    "collapsed": false
   },
   "outputs": [],
   "source": [
    "firstModel.compile(loss='MSE', optimizer='adam', metrics=['accuracy'])"
   ]
  },
  {
   "cell_type": "markdown",
   "metadata": {},
   "source": [
    "#### Second model (with dropout)"
   ]
  },
  {
   "cell_type": "markdown",
   "metadata": {},
   "source": [
    "The goal of this new network is to add pooling and dropout layers to improve the model as much as possible"
   ]
  },
  {
   "cell_type": "code",
   "execution_count": 16,
   "metadata": {
    "collapsed": true
   },
   "outputs": [],
   "source": [
    "def second_model():\n",
    "    model.add(Convolution2D(30, 5, 5, border_mode='valid', input_shape=(1, 28, 28), activation='relu'))\n",
    "    model.add(MaxPooling2D(pool_size=(2, 2)))\n",
    "    model.add(Convolution2D(15, 3, 3, activation='relu'))\n",
    "    model.add(MaxPooling2D(pool_size=(2, 2)))\n",
    "    model.add(Dropout(0.2))\n",
    "    model.add(Flatten())\n",
    "    model.add(Dense(128, activation='relu'))\n",
    "    model.add(Dense(50, activation='relu'))\n",
    "    model.add(Dense(numClasses, activation='softmax'))"
   ]
  },
  {
   "cell_type": "code",
   "execution_count": 17,
   "metadata": {
    "collapsed": false
   },
   "outputs": [
    {
     "name": "stdout",
     "output_type": "stream",
     "text": [
      "____________________________________________________________________________________________________\n",
      "Layer (type)                     Output Shape          Param #     Connected to                     \n",
      "====================================================================================================\n",
      "convolution2d_2 (Convolution2D)  (None, 32, 26, 26)    320         convolution2d_input_2[0][0]      \n",
      "____________________________________________________________________________________________________\n",
      "flatten_2 (Flatten)              (None, 21632)         0           convolution2d_2[0][0]            \n",
      "____________________________________________________________________________________________________\n",
      "dense_2 (Dense)                  (None, 10)            216330      flatten_2[0][0]                  \n",
      "====================================================================================================\n",
      "Total params: 216650\n",
      "____________________________________________________________________________________________________\n"
     ]
    }
   ],
   "source": [
    "secondModel= second_model()"
   ]
  },
  {
   "cell_type": "code",
   "execution_count": 18,
   "metadata": {
    "collapsed": true
   },
   "outputs": [],
   "source": [
    "secondModel.compile(loss='categorical_crossentropy', optimizer='adam', metrics=['accuracy'])"
   ]
  },
  {
   "cell_type": "markdown",
   "metadata": {},
   "source": [
    "### Fit the model "
   ]
  },
  {
   "cell_type": "code",
   "execution_count": 19,
   "metadata": {
    "collapsed": false
   },
   "outputs": [
    {
     "name": "stdout",
     "output_type": "stream",
     "text": [
      "Epoch 1/150\n",
      "60000/60000 [==============================] - 64s - loss: 0.0750 - acc: 0.3832    \n",
      "Epoch 2/150\n",
      "60000/60000 [==============================] - 65s - loss: 0.0714 - acc: 0.4124    \n",
      "Epoch 3/150\n",
      "60000/60000 [==============================] - 75s - loss: 0.0705 - acc: 0.4203    \n",
      "Epoch 4/150\n",
      "60000/60000 [==============================] - 76s - loss: 0.0699 - acc: 0.4244    \n",
      "Epoch 5/150\n",
      "60000/60000 [==============================] - 69s - loss: 0.0694 - acc: 0.4269    \n",
      "Epoch 6/150\n",
      "60000/60000 [==============================] - 66s - loss: 0.0691 - acc: 0.4297    \n",
      "Epoch 7/150\n",
      "60000/60000 [==============================] - 64s - loss: 0.0688 - acc: 0.4338    \n",
      "Epoch 8/150\n",
      "60000/60000 [==============================] - 63s - loss: 0.0685 - acc: 0.4351    \n",
      "Epoch 9/150\n",
      "60000/60000 [==============================] - 69s - loss: 0.0683 - acc: 0.4377    \n",
      "Epoch 10/150\n",
      "60000/60000 [==============================] - 73s - loss: 0.0681 - acc: 0.4396    \n",
      "Epoch 11/150\n",
      "60000/60000 [==============================] - 77s - loss: 0.0680 - acc: 0.4401    \n",
      "Epoch 12/150\n",
      "60000/60000 [==============================] - 73s - loss: 0.0678 - acc: 0.4406    \n",
      "Epoch 13/150\n",
      "60000/60000 [==============================] - 77s - loss: 0.0677 - acc: 0.4419    \n",
      "Epoch 14/150\n",
      "60000/60000 [==============================] - 78s - loss: 0.0676 - acc: 0.4430    \n",
      "Epoch 15/150\n",
      "60000/60000 [==============================] - 80s - loss: 0.0675 - acc: 0.4439    \n",
      "Epoch 16/150\n",
      "60000/60000 [==============================] - 84s - loss: 0.0674 - acc: 0.4459    \n",
      "Epoch 17/150\n",
      "60000/60000 [==============================] - 78s - loss: 0.0673 - acc: 0.4443    \n",
      "Epoch 18/150\n",
      "60000/60000 [==============================] - 83s - loss: 0.0672 - acc: 0.4459    \n",
      "Epoch 19/150\n",
      "60000/60000 [==============================] - 80s - loss: 0.0672 - acc: 0.4469    \n",
      "Epoch 20/150\n",
      "60000/60000 [==============================] - 81s - loss: 0.0671 - acc: 0.4466    \n",
      "Epoch 21/150\n",
      "60000/60000 [==============================] - 88s - loss: 0.0671 - acc: 0.4478    \n",
      "Epoch 22/150\n",
      "60000/60000 [==============================] - 87s - loss: 0.0670 - acc: 0.4463    \n",
      "Epoch 23/150\n",
      "60000/60000 [==============================] - 90s - loss: 0.0669 - acc: 0.4472    \n",
      "Epoch 24/150\n",
      "60000/60000 [==============================] - 90s - loss: 0.0669 - acc: 0.4484    \n",
      "Epoch 25/150\n",
      "60000/60000 [==============================] - 88s - loss: 0.0669 - acc: 0.4482    \n",
      "Epoch 26/150\n",
      "60000/60000 [==============================] - 81s - loss: 0.0668 - acc: 0.4496    \n",
      "Epoch 27/150\n",
      "60000/60000 [==============================] - 83s - loss: 0.0668 - acc: 0.4485    \n",
      "Epoch 28/150\n",
      "60000/60000 [==============================] - 91s - loss: 0.0668 - acc: 0.4491    \n",
      "Epoch 29/150\n",
      "60000/60000 [==============================] - 83s - loss: 0.0668 - acc: 0.4499    \n",
      "Epoch 30/150\n",
      "60000/60000 [==============================] - 84s - loss: 0.0667 - acc: 0.4498    \n",
      "Epoch 31/150\n",
      "60000/60000 [==============================] - 87s - loss: 0.0667 - acc: 0.4490    \n",
      "Epoch 32/150\n",
      "60000/60000 [==============================] - 96s - loss: 0.0667 - acc: 0.4514    \n",
      "Epoch 33/150\n",
      "60000/60000 [==============================] - 101s - loss: 0.0667 - acc: 0.4493   \n",
      "Epoch 34/150\n",
      "60000/60000 [==============================] - 82s - loss: 0.0666 - acc: 0.4489    \n",
      "Epoch 35/150\n",
      "60000/60000 [==============================] - 80s - loss: 0.0666 - acc: 0.4504    \n",
      "Epoch 36/150\n",
      "60000/60000 [==============================] - 80s - loss: 0.0666 - acc: 0.4493    \n",
      "Epoch 37/150\n",
      "60000/60000 [==============================] - 80s - loss: 0.0666 - acc: 0.4499    \n",
      "Epoch 38/150\n",
      "60000/60000 [==============================] - 81s - loss: 0.0666 - acc: 0.4506    \n",
      "Epoch 39/150\n",
      "60000/60000 [==============================] - 86s - loss: 0.0665 - acc: 0.4507    \n",
      "Epoch 40/150\n",
      "60000/60000 [==============================] - 90s - loss: 0.0665 - acc: 0.4509    \n",
      "Epoch 41/150\n",
      "60000/60000 [==============================] - 90s - loss: 0.0665 - acc: 0.4516    \n",
      "Epoch 42/150\n",
      "60000/60000 [==============================] - 90s - loss: 0.0665 - acc: 0.4515    \n",
      "Epoch 43/150\n",
      "60000/60000 [==============================] - 86s - loss: 0.0665 - acc: 0.4502    \n",
      "Epoch 44/150\n",
      "60000/60000 [==============================] - 80s - loss: 0.0665 - acc: 0.4496    \n",
      "Epoch 45/150\n",
      "60000/60000 [==============================] - 83s - loss: 0.0665 - acc: 0.4504    \n",
      "Epoch 46/150\n",
      "60000/60000 [==============================] - 83s - loss: 0.0664 - acc: 0.4519    \n",
      "Epoch 47/150\n",
      "60000/60000 [==============================] - 83s - loss: 0.0664 - acc: 0.4502    \n",
      "Epoch 48/150\n",
      "60000/60000 [==============================] - 81s - loss: 0.0664 - acc: 0.4507    \n",
      "Epoch 49/150\n",
      "60000/60000 [==============================] - 82s - loss: 0.0664 - acc: 0.4517    \n",
      "Epoch 50/150\n",
      "60000/60000 [==============================] - 82s - loss: 0.0664 - acc: 0.4497    \n",
      "Epoch 51/150\n",
      "60000/60000 [==============================] - 82s - loss: 0.0664 - acc: 0.4510    \n",
      "Epoch 52/150\n",
      "60000/60000 [==============================] - 83s - loss: 0.0664 - acc: 0.4515    \n",
      "Epoch 53/150\n",
      "60000/60000 [==============================] - 83s - loss: 0.0664 - acc: 0.4510    \n",
      "Epoch 54/150\n",
      "60000/60000 [==============================] - 83s - loss: 0.0664 - acc: 0.4504    \n",
      "Epoch 55/150\n",
      "60000/60000 [==============================] - 83s - loss: 0.0663 - acc: 0.4510    \n",
      "Epoch 56/150\n",
      "60000/60000 [==============================] - 83s - loss: 0.0663 - acc: 0.4521    \n",
      "Epoch 57/150\n",
      "60000/60000 [==============================] - 83s - loss: 0.0663 - acc: 0.4511    \n",
      "Epoch 58/150\n",
      "60000/60000 [==============================] - 83s - loss: 0.0663 - acc: 0.4507    \n",
      "Epoch 59/150\n",
      "60000/60000 [==============================] - 83s - loss: 0.0663 - acc: 0.4524    \n",
      "Epoch 60/150\n",
      "60000/60000 [==============================] - 86s - loss: 0.0663 - acc: 0.4525    \n",
      "Epoch 61/150\n",
      "60000/60000 [==============================] - 84s - loss: 0.0663 - acc: 0.4508    \n",
      "Epoch 62/150\n",
      "60000/60000 [==============================] - 84s - loss: 0.0663 - acc: 0.4520    \n",
      "Epoch 63/150\n",
      "60000/60000 [==============================] - 84s - loss: 0.0663 - acc: 0.4520    \n",
      "Epoch 64/150\n",
      "60000/60000 [==============================] - 84s - loss: 0.0663 - acc: 0.4523    \n",
      "Epoch 65/150\n",
      "60000/60000 [==============================] - 84s - loss: 0.0663 - acc: 0.4528    \n",
      "Epoch 66/150\n",
      "60000/60000 [==============================] - 83s - loss: 0.0662 - acc: 0.4522    \n",
      "Epoch 67/150\n",
      "60000/60000 [==============================] - 84s - loss: 0.0662 - acc: 0.4524    \n",
      "Epoch 68/150\n",
      "60000/60000 [==============================] - 85s - loss: 0.0662 - acc: 0.4520    \n",
      "Epoch 69/150\n",
      "60000/60000 [==============================] - 84s - loss: 0.0662 - acc: 0.4523    \n",
      "Epoch 70/150\n",
      "60000/60000 [==============================] - 88s - loss: 0.0662 - acc: 0.4535    \n",
      "Epoch 71/150\n",
      "60000/60000 [==============================] - 90s - loss: 0.0662 - acc: 0.4532    \n",
      "Epoch 72/150\n",
      "60000/60000 [==============================] - 92s - loss: 0.0662 - acc: 0.4536    \n",
      "Epoch 73/150\n",
      "60000/60000 [==============================] - 90s - loss: 0.0662 - acc: 0.4528    \n",
      "Epoch 74/150\n",
      "60000/60000 [==============================] - 93s - loss: 0.0661 - acc: 0.4533    \n",
      "Epoch 75/150\n",
      "60000/60000 [==============================] - 93s - loss: 0.0662 - acc: 0.4531    \n",
      "Epoch 76/150\n",
      "60000/60000 [==============================] - 90s - loss: 0.0661 - acc: 0.4536    \n",
      "Epoch 77/150\n",
      "60000/60000 [==============================] - 89s - loss: 0.0661 - acc: 0.4534    \n",
      "Epoch 78/150\n",
      "60000/60000 [==============================] - 88s - loss: 0.0661 - acc: 0.4522    \n",
      "Epoch 79/150\n",
      "60000/60000 [==============================] - 91s - loss: 0.0661 - acc: 0.4537    \n",
      "Epoch 80/150\n",
      "60000/60000 [==============================] - 92s - loss: 0.0661 - acc: 0.4530    \n",
      "Epoch 81/150\n",
      "60000/60000 [==============================] - 92s - loss: 0.0661 - acc: 0.4537    \n",
      "Epoch 82/150\n",
      "60000/60000 [==============================] - 91s - loss: 0.0661 - acc: 0.4530    \n",
      "Epoch 83/150\n",
      "60000/60000 [==============================] - 89s - loss: 0.0661 - acc: 0.4539    \n",
      "Epoch 84/150\n",
      "60000/60000 [==============================] - 90s - loss: 0.0661 - acc: 0.4530    \n",
      "Epoch 85/150\n",
      "60000/60000 [==============================] - 91s - loss: 0.0661 - acc: 0.4529    \n",
      "Epoch 86/150\n",
      "60000/60000 [==============================] - 1485s - loss: 0.0661 - acc: 0.4536  \n",
      "Epoch 87/150\n",
      "60000/60000 [==============================] - 2493s - loss: 0.0661 - acc: 0.4538  \n",
      "Epoch 88/150\n",
      "60000/60000 [==============================] - 7063s - loss: 0.0661 - acc: 0.4546  \n",
      "Epoch 89/150\n",
      "60000/60000 [==============================] - 108s - loss: 0.0661 - acc: 0.4540   \n",
      "Epoch 90/150\n",
      "60000/60000 [==============================] - 112s - loss: 0.0661 - acc: 0.4537   \n",
      "Epoch 91/150\n",
      "60000/60000 [==============================] - 105s - loss: 0.0661 - acc: 0.4538   \n",
      "Epoch 92/150\n",
      "60000/60000 [==============================] - 103s - loss: 0.0661 - acc: 0.4537   \n",
      "Epoch 93/150\n",
      "60000/60000 [==============================] - 105s - loss: 0.0661 - acc: 0.4531   \n",
      "Epoch 94/150\n",
      "60000/60000 [==============================] - 104s - loss: 0.0661 - acc: 0.4540   \n",
      "Epoch 95/150\n",
      "60000/60000 [==============================] - 112s - loss: 0.0661 - acc: 0.4534   \n",
      "Epoch 96/150\n",
      "60000/60000 [==============================] - 94s - loss: 0.0661 - acc: 0.4531    \n",
      "Epoch 97/150\n",
      "60000/60000 [==============================] - 99s - loss: 0.0661 - acc: 0.4541    \n",
      "Epoch 98/150\n",
      "60000/60000 [==============================] - 100s - loss: 0.0660 - acc: 0.4541   \n",
      "Epoch 99/150\n",
      "60000/60000 [==============================] - 96s - loss: 0.0661 - acc: 0.4533    \n",
      "Epoch 100/150\n",
      "60000/60000 [==============================] - 97s - loss: 0.0660 - acc: 0.4541    \n",
      "Epoch 101/150\n",
      "60000/60000 [==============================] - 91s - loss: 0.0660 - acc: 0.4534    \n",
      "Epoch 102/150\n",
      "60000/60000 [==============================] - 106s - loss: 0.0660 - acc: 0.4542   \n",
      "Epoch 103/150\n",
      "60000/60000 [==============================] - 93s - loss: 0.0660 - acc: 0.4540    \n",
      "Epoch 104/150\n",
      "60000/60000 [==============================] - 91s - loss: 0.0660 - acc: 0.4539    \n",
      "Epoch 105/150\n",
      "60000/60000 [==============================] - 100s - loss: 0.0660 - acc: 0.4537   \n",
      "Epoch 106/150\n",
      "60000/60000 [==============================] - 95s - loss: 0.0660 - acc: 0.4538    \n",
      "Epoch 107/150\n",
      "60000/60000 [==============================] - 100s - loss: 0.0660 - acc: 0.4542   \n",
      "Epoch 108/150\n",
      "60000/60000 [==============================] - 96s - loss: 0.0660 - acc: 0.4538    \n",
      "Epoch 109/150\n",
      "60000/60000 [==============================] - 100s - loss: 0.0660 - acc: 0.4534   \n",
      "Epoch 110/150\n",
      "60000/60000 [==============================] - 94s - loss: 0.0660 - acc: 0.4539    \n",
      "Epoch 111/150\n",
      "60000/60000 [==============================] - 102s - loss: 0.0660 - acc: 0.4537   \n",
      "Epoch 112/150\n",
      "60000/60000 [==============================] - 101s - loss: 0.0660 - acc: 0.4542   \n",
      "Epoch 113/150\n",
      "60000/60000 [==============================] - 93s - loss: 0.0660 - acc: 0.4539    \n",
      "Epoch 114/150\n",
      "60000/60000 [==============================] - 89s - loss: 0.0660 - acc: 0.4545    \n",
      "Epoch 115/150\n",
      "60000/60000 [==============================] - 87s - loss: 0.0660 - acc: 0.4546    \n",
      "Epoch 116/150\n",
      "60000/60000 [==============================] - 87s - loss: 0.0660 - acc: 0.4543    \n",
      "Epoch 117/150\n",
      "60000/60000 [==============================] - 87s - loss: 0.0660 - acc: 0.4542    \n",
      "Epoch 118/150\n",
      "60000/60000 [==============================] - 86s - loss: 0.0660 - acc: 0.4542    \n",
      "Epoch 119/150\n",
      "60000/60000 [==============================] - 87s - loss: 0.0660 - acc: 0.4538    \n",
      "Epoch 120/150\n",
      "60000/60000 [==============================] - 87s - loss: 0.0660 - acc: 0.4543    \n",
      "Epoch 121/150\n",
      "60000/60000 [==============================] - 92s - loss: 0.0660 - acc: 0.4540    \n",
      "Epoch 122/150\n",
      "60000/60000 [==============================] - 87s - loss: 0.0660 - acc: 0.4541    \n",
      "Epoch 123/150\n",
      "60000/60000 [==============================] - 90s - loss: 0.0660 - acc: 0.4547    \n",
      "Epoch 124/150\n",
      "60000/60000 [==============================] - 87s - loss: 0.0660 - acc: 0.4546    \n",
      "Epoch 125/150\n",
      "60000/60000 [==============================] - 86s - loss: 0.0660 - acc: 0.4543    \n",
      "Epoch 126/150\n",
      "60000/60000 [==============================] - 87s - loss: 0.0660 - acc: 0.4550    \n",
      "Epoch 127/150\n",
      "60000/60000 [==============================] - 87s - loss: 0.0660 - acc: 0.4548    \n",
      "Epoch 128/150\n",
      "60000/60000 [==============================] - 87s - loss: 0.0660 - acc: 0.4543    \n",
      "Epoch 129/150\n",
      "60000/60000 [==============================] - 85s - loss: 0.0660 - acc: 0.4543    \n",
      "Epoch 130/150\n",
      "60000/60000 [==============================] - 85s - loss: 0.0660 - acc: 0.4541    \n",
      "Epoch 131/150\n",
      "60000/60000 [==============================] - 85s - loss: 0.0660 - acc: 0.4543    \n",
      "Epoch 132/150\n",
      "60000/60000 [==============================] - 86s - loss: 0.0660 - acc: 0.4543    \n",
      "Epoch 133/150\n",
      "60000/60000 [==============================] - 86s - loss: 0.0660 - acc: 0.4553    \n",
      "Epoch 134/150\n",
      "60000/60000 [==============================] - 85s - loss: 0.0660 - acc: 0.4547    \n",
      "Epoch 135/150\n",
      "60000/60000 [==============================] - 84s - loss: 0.0660 - acc: 0.4541    \n",
      "Epoch 136/150\n",
      "60000/60000 [==============================] - 85s - loss: 0.0660 - acc: 0.4537    \n",
      "Epoch 137/150\n",
      "60000/60000 [==============================] - 84s - loss: 0.0660 - acc: 0.4550    \n",
      "Epoch 138/150\n",
      "60000/60000 [==============================] - 84s - loss: 0.0660 - acc: 0.4542    \n",
      "Epoch 139/150\n",
      "60000/60000 [==============================] - 84s - loss: 0.0660 - acc: 0.4546    \n",
      "Epoch 140/150\n",
      "60000/60000 [==============================] - 88s - loss: 0.0660 - acc: 0.4546    \n",
      "Epoch 141/150\n",
      "60000/60000 [==============================] - 85s - loss: 0.0660 - acc: 0.4546    \n",
      "Epoch 142/150\n",
      "60000/60000 [==============================] - 88s - loss: 0.0660 - acc: 0.4549    \n",
      "Epoch 143/150\n",
      "60000/60000 [==============================] - 85s - loss: 0.0660 - acc: 0.4542    \n",
      "Epoch 144/150\n",
      "60000/60000 [==============================] - 84s - loss: 0.0660 - acc: 0.4551    \n",
      "Epoch 145/150\n",
      "60000/60000 [==============================] - 85s - loss: 0.0660 - acc: 0.4552    \n",
      "Epoch 146/150\n",
      "60000/60000 [==============================] - 101s - loss: 0.0660 - acc: 0.4549   \n",
      "Epoch 147/150\n",
      "60000/60000 [==============================] - 98s - loss: 0.0660 - acc: 0.4549    \n",
      "Epoch 148/150\n",
      "60000/60000 [==============================] - 96s - loss: 0.0659 - acc: 0.4551    \n",
      "Epoch 149/150\n",
      "60000/60000 [==============================] - 92s - loss: 0.0660 - acc: 0.4549    \n",
      "Epoch 150/150\n",
      "60000/60000 [==============================] - 89s - loss: 0.0660 - acc: 0.4542    \n"
     ]
    },
    {
     "data": {
      "text/plain": [
       "<keras.callbacks.History at 0x10938ec90>"
      ]
     },
     "execution_count": 19,
     "metadata": {},
     "output_type": "execute_result"
    }
   ],
   "source": [
    "firstModel.fit(X_train_3D, y_train, nb_epoch=150, batch_size=10, verbose=1)"
   ]
  },
  {
   "cell_type": "code",
   "execution_count": null,
   "metadata": {
    "collapsed": true
   },
   "outputs": [],
   "source": []
  },
  {
   "cell_type": "markdown",
   "metadata": {},
   "source": [
    "### Test the model "
   ]
  },
  {
   "cell_type": "code",
   "execution_count": 22,
   "metadata": {
    "collapsed": false
   },
   "outputs": [
    {
     "name": "stdout",
     "output_type": "stream",
     "text": [
      "10000/10000 [==============================] - 2s     \n"
     ]
    }
   ],
   "source": [
    "loss_and_metrics1 = firstModel.evaluate(X_test_3D, y_test, batch_size=32)"
   ]
  },
  {
   "cell_type": "code",
   "execution_count": 23,
   "metadata": {
    "collapsed": false
   },
   "outputs": [
    {
     "data": {
      "text/plain": [
       "[0.071653639280796044, 0.4209]"
      ]
     },
     "execution_count": 23,
     "metadata": {},
     "output_type": "execute_result"
    }
   ],
   "source": [
    "loss_and_metrics1"
   ]
  },
  {
   "cell_type": "markdown",
   "metadata": {},
   "source": [
    "For the first model we have those results :[0.071653639280796044, 0.4209]"
   ]
  },
  {
   "cell_type": "markdown",
   "metadata": {},
   "source": [
    "We could also make some predictions"
   ]
  },
  {
   "cell_type": "code",
   "execution_count": null,
   "metadata": {
    "collapsed": true
   },
   "outputs": [],
   "source": [
    "classes = firstModel.predict_classes(Xtest, batch_size=32)"
   ]
  },
  {
   "cell_type": "code",
   "execution_count": null,
   "metadata": {
    "collapsed": true
   },
   "outputs": [],
   "source": []
  },
  {
   "cell_type": "code",
   "execution_count": null,
   "metadata": {
    "collapsed": true
   },
   "outputs": [],
   "source": []
  },
  {
   "cell_type": "code",
   "execution_count": null,
   "metadata": {
    "collapsed": true
   },
   "outputs": [],
   "source": []
  },
  {
   "cell_type": "code",
   "execution_count": null,
   "metadata": {
    "collapsed": true
   },
   "outputs": [],
   "source": []
  }
 ],
 "metadata": {
  "kernelspec": {
   "display_name": "Python 2",
   "language": "python",
   "name": "python2"
  },
  "language_info": {
   "codemirror_mode": {
    "name": "ipython",
    "version": 2
   },
   "file_extension": ".py",
   "mimetype": "text/x-python",
   "name": "python",
   "nbconvert_exporter": "python",
   "pygments_lexer": "ipython2",
   "version": "2.7.12"
  }
 },
 "nbformat": 4,
 "nbformat_minor": 1
}
